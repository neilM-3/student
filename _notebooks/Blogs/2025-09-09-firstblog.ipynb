{
 "cells": [
  {
   "cell_type": "raw",
   "id": "a6fb4f4b",
   "metadata": {
    "vscode": {
     "languageId": "raw"
    }
   },
   "source": [
    "---\n",
    "layout: post\n",
    "title: Blog 1\n",
    "permalink: /blogs/blog1\n",
    "author: Neil Manjrekar\n",
    "description: This is my first blog post on my new website.\n",
    "---"
   ]
  },
  {
   "cell_type": "markdown",
   "id": "e75a7477",
   "metadata": {},
   "source": [
    "# My CSP Journey\n",
    "### Sprint 1 Checkpoint 1\n",
    "* Set up our computers and operating systems to run Visual Studio Cod\n",
    "\n",
    "* Created GitHub accounts for version control and collaboration\n",
    "* Forked the student repository to begin working on our own copies\n",
    "* Learned how to use the terminal to navigate, run commands, and manage files\n",
    "### Sprint 1 Checkpoint 2 + 3\n",
    "* Planned an LxD lesson on GitHub Pages using design thinking and Agile evidence\n",
    "\n",
    "* Embraced creativity and flexibility (hyperflex) while aiming for 88–93% quality\n",
    "* Formed teams with a Scrum Master managing a shared repo; split work between Jupyter content and theme changes\n",
    "* Set up repos and virtual environments; practiced forking, committing, and GitHub Pages deployment\n",
    "* Integrated theme customization and notebook outputs into a working site to demonstrate mastery"
   ]
  }
 ],
 "metadata": {
  "language_info": {
   "name": "python"
  }
 },
 "nbformat": 4,
 "nbformat_minor": 5
}
