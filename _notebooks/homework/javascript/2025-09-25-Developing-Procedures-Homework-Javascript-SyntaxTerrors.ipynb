{
 "cells": [
  {
   "cell_type": "code",
   "execution_count": null,
   "id": "2b34f512",
   "metadata": {},
   "outputs": [],
   "source": [
    "---\n",
    "layout: post\n",
    "title: Coding Concept - Developing Procedures\n",
    "description: Understanding Developing Procedures in Python and JavaScript\n",
    "permalink: /csp/big-idea-three/developingprocedures/javascript/hw/p3/syntaxterrors\n",
    "author: Meryl C\n",
    "---"
   ]
  },
  {
   "cell_type": "markdown",
   "id": "32d46af6",
   "metadata": {},
   "source": [
    "<div align=\"center\" style=\"margin-bottom: 2em;\">\n",
    "  <a href=\"{{ site.baseurl }}/csp/big-idea-three/developingprocedures/lesson/p3/syntaxterrors\"\n",
    "     style=\"\n",
    "      display: inline-block;\n",
    "      background: linear-gradient(90deg, #2563eb 0%, #1e40af 100%);\n",
    "      color: white;\n",
    "      padding: 0.85em 2.2em;\n",
    "      border-radius: 0.6em;\n",
    "      font-weight: bold;\n",
    "      text-decoration: none;\n",
    "      font-size: 1.15em;\n",
    "      box-shadow: 0 4px 16px rgba(30,64,175,0.18), 0 1.5px 4px rgba(0,0,0,0.10);\n",
    "      transition: \n",
    "        background 0.2s,\n",
    "        transform 0.15s,\n",
    "        box-shadow 0.2s;\n",
    "    \"\n",
    "    onmouseover=\"this.style.transform='scale(1.045)'; this.style.boxShadow='0 8px 24px rgba(30,64,175,0.22), 0 2px 8px rgba(0,0,0,0.13)';\"\n",
    "    onmouseout=\"this.style.transform='scale(1)'; this.style.boxShadow='0 4px 16px rgba(30,64,175,0.18), 0 1.5px 4px rgba(0,0,0,0.10)';\"\n",
    "  >\n",
    "    Developing Procedures Lesson\n",
    "  </a>\n",
    "</div>"
   ]
  },
  {
   "cell_type": "code",
   "execution_count": 1,
   "id": "101fed29",
   "metadata": {
    "vscode": {
     "languageId": "javascript"
    }
   },
   "outputs": [
    {
     "data": {
      "application/javascript": "// Homework: Developing Procedures in JavaScript\n// ----------------------------------------------------\n// This cell defines three small utility procedures and\n// runs quick console tests to verify they work.\n\n// 1) cube(n): return n^3\n// Uses simple multiplication (faster than Math.pow for small ints).\nfunction cube(n) {\n  // Multiply n by itself three times to get the cube.\n  return n * n * n;\n}\n\n// 2) listSum(numbers): sum elements of an array\n// Uses a running total pattern with a for...of loop.\nfunction listSum(numbers) {\n  // Initialize an accumulator to 0 (additive identity).\n  let total = 0;\n\n  // Iterate over each number in the array and add it to total.\n  for (let num of numbers) {\n    total += num; // same as total = total + num\n  }\n\n  // Return the final accumulated sum.\n  return total;\n}\n\n// 3) isPalindrome(word): check if a string reads the same forwards/backwards\n// Strategy: reverse the string and compare to the original.\n// Note: This is case-sensitive and space-sensitive (e.g., \"Racecar\" → false).\nfunction isPalindrome(word) {\n  // Split into array of chars, reverse the array, then join back to a string.\n  const reversed = word.split('').reverse().join('');\n\n  // If original equals reversed, it's a palindrome.\n  return word === reversed;\n}\n\n// -------------------- Tests -------------------------\n\n// Expect 27 because 3 * 3 * 3 = 27.\nconsole.log(\"cube(3) =\", cube(3)); // 27\n\n// Example array for testing listSum.\nconst nums = [1, 2, 3];\n\n// Expect 6 because 1+2+3 = 6.\nconsole.log(\"listSum([1,2,3]) =\", listSum(nums)); // 6\n\n// Palindrome checks:\n// \"racecar\" reads the same backwards, so true.\nconsole.log(`isPalindrome(\"racecar\") =`, isPalindrome(\"racecar\")); // true\n// \"apple\" does not, so false.\nconsole.log(`isPalindrome(\"apple\") =`, isPalindrome(\"apple\")); // false\n",
      "text/plain": [
       "<IPython.core.display.Javascript object>"
      ]
     },
     "metadata": {},
     "output_type": "display_data"
    }
   ],
   "source": [
    "%%js\n",
    "// Homework: Developing Procedures in JavaScript\n",
    "// ----------------------------------------------------\n",
    "// This cell defines three small utility procedures and\n",
    "// runs quick console tests to verify they work.\n",
    "\n",
    "// 1) cube(n): return n^3\n",
    "// Uses simple multiplication (faster than Math.pow for small ints).\n",
    "function cube(n) {\n",
    "  // Multiply n by itself three times to get the cube.\n",
    "  return n * n * n;\n",
    "}\n",
    "\n",
    "// 2) listSum(numbers): sum elements of an array\n",
    "// Uses a running total pattern with a for...of loop.\n",
    "function listSum(numbers) {\n",
    "  // Initialize an accumulator to 0 (additive identity).\n",
    "  let total = 0;\n",
    "\n",
    "  // Iterate over each number in the array and add it to total.\n",
    "  for (let num of numbers) {\n",
    "    total += num; // same as total = total + num\n",
    "  }\n",
    "\n",
    "  // Return the final accumulated sum.\n",
    "  return total;\n",
    "}\n",
    "\n",
    "// 3) isPalindrome(word): check if a string reads the same forwards/backwards\n",
    "// Strategy: reverse the string and compare to the original.\n",
    "// Note: This is case-sensitive and space-sensitive (e.g., \"Racecar\" → false).\n",
    "function isPalindrome(word) {\n",
    "  // Split into array of chars, reverse the array, then join back to a string.\n",
    "  const reversed = word.split('').reverse().join('');\n",
    "\n",
    "  // If original equals reversed, it's a palindrome.\n",
    "  return word === reversed;\n",
    "}\n",
    "\n",
    "// -------------------- Tests -------------------------\n",
    "\n",
    "// Expect 27 because 3 * 3 * 3 = 27.\n",
    "console.log(\"cube(3) =\", cube(3)); // 27\n",
    "\n",
    "// Example array for testing listSum.\n",
    "const nums = [1, 2, 3];\n",
    "\n",
    "// Expect 6 because 1+2+3 = 6.\n",
    "console.log(\"listSum([1,2,3]) =\", listSum(nums)); // 6\n",
    "\n",
    "// Palindrome checks:\n",
    "// \"racecar\" reads the same backwards, so true.\n",
    "console.log(`isPalindrome(\"racecar\") =`, isPalindrome(\"racecar\")); // true\n",
    "// \"apple\" does not, so false.\n",
    "console.log(`isPalindrome(\"apple\") =`, isPalindrome(\"apple\")); // false\n"
   ]
  },
  {
   "cell_type": "markdown",
   "id": "60eaaa4a",
   "metadata": {},
   "source": [
    "# Problem 1"
   ]
  },
  {
   "cell_type": "code",
   "execution_count": 18,
   "id": "0517f94b",
   "metadata": {
    "vscode": {
     "languageId": "javascript"
    }
   },
   "outputs": [
    {
     "data": {
      "application/javascript": "function countVowels(word) {\n  let count = 0;\n  let vowels = 'aeiouAEIOU';\n  for (let letter of word) {\n    if (vowels.includes(letter)) {\n      count++;\n    }\n  }\n  return count;\n}\n\nconsole.log(countVowels(\"Hello\")); // 2\nconsole.log(countVowels(\"JavaScript\")); // 3\n",
      "text/plain": [
       "<IPython.core.display.Javascript object>"
      ]
     },
     "metadata": {},
     "output_type": "display_data"
    }
   ],
   "source": [
    "%%js\n",
    "function countVowels(word) {\n",
    "  let count = 0;\n",
    "  let vowels = 'aeiouAEIOU';\n",
    "  for (let letter of word) {\n",
    "    if (vowels.includes(letter)) {\n",
    "      count++;\n",
    "    }\n",
    "  }\n",
    "  return count;\n",
    "}\n",
    "\n",
    "console.log(countVowels(\"Hello\")); // 2\n",
    "console.log(countVowels(\"JavaScript\")); // 3"
   ]
  },
  {
   "cell_type": "markdown",
   "id": "b0d3fb25",
   "metadata": {},
   "source": [
    "# Problem 2"
   ]
  },
  {
   "cell_type": "code",
   "execution_count": 19,
   "id": "2b21cd08",
   "metadata": {
    "vscode": {
     "languageId": "javascript"
    }
   },
   "outputs": [
    {
     "data": {
      "application/javascript": "javascriptfunction findMax(numbers) {\n  let max = numbers[0];\n  for (let num of numbers) {\n    if (num > max) {\n      max = num;\n    }\n  }\n  return max;\n}\n\nconsole.log(findMax([3, 7, 2, 9, 1])); // 9\n",
      "text/plain": [
       "<IPython.core.display.Javascript object>"
      ]
     },
     "metadata": {},
     "output_type": "display_data"
    }
   ],
   "source": [
    "%%js\n",
    "javascriptfunction findMax(numbers) {\n",
    "  let max = numbers[0];\n",
    "  for (let num of numbers) {\n",
    "    if (num > max) {\n",
    "      max = num;\n",
    "    }\n",
    "  }\n",
    "  return max;\n",
    "}\n",
    "\n",
    "console.log(findMax([3, 7, 2, 9, 1])); // 9"
   ]
  }
 ],
 "metadata": {
  "kernelspec": {
   "display_name": "Python 3",
   "language": "python",
   "name": "python3"
  },
  "language_info": {
   "codemirror_mode": {
    "name": "ipython",
    "version": 3
   },
   "file_extension": ".py",
   "mimetype": "text/x-python",
   "name": "python",
   "nbconvert_exporter": "python",
   "pygments_lexer": "ipython3",
   "version": "3.9.6"
  }
 },
 "nbformat": 4,
 "nbformat_minor": 5
}
