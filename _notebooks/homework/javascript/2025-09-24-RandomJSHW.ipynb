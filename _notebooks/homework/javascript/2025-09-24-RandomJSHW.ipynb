{
 "cells": [
  {
   "cell_type": "markdown",
   "id": "91855f93",
   "metadata": {},
   "source": [
    "---\n",
    "layout: post\n",
    "title: Sprint 2 - Random Numbers (Javascript)\n",
    "description:  Homework for Random Numbers in Javascript\n",
    "toc: true\n",
    "authors: Shayan B, Akhil K.\n",
    "breadcrumbs: True\n",
    "permalink: /csp/big-idea-3/RandomJS/p3/homework\n",
    "---"
   ]
  },
  {
   "cell_type": "markdown",
   "id": "9ad890a4",
   "metadata": {},
   "source": [
    "<style>\n",
    "/* 🕹️ JS Random Homework */\n",
    ".js-random-hw {\n",
    "  background: linear-gradient(135deg, #0d001a, #1a0033, #220044);\n",
    "  border: 2px solid #ff4081;\n",
    "  border-radius: 14px;\n",
    "  padding: 30px;\n",
    "  margin: 30px auto;\n",
    "  max-width: 950px;\n",
    "  font-family: \"Segoe UI\", sans-serif;\n",
    "  color: #f9eaff;\n",
    "  box-shadow: 0 0 35px rgba(255, 64, 129, 0.7);\n",
    "  line-height: 1.8em;\n",
    "}\n",
    "\n",
    "/* Heading Glow */\n",
    ".js-random-hw h2 {\n",
    "  color: #ff4081;\n",
    "  text-shadow: 0 0 15px rgba(255, 64, 129, 1);\n",
    "  font-family: \"Orbitron\", \"Segoe UI\", sans-serif;\n",
    "  margin-bottom: 15px;\n",
    "  font-size: 1.8em;\n",
    "}\n",
    "\n",
    "/* Hack Subtitles */\n",
    ".js-random-hw h3 {\n",
    "  color: #00e5ff;\n",
    "  text-shadow: 0 0 10px rgba(0, 229, 255, 0.9);\n",
    "  margin-top: 18px;\n",
    "}\n",
    "\n",
    "/* Hack List */\n",
    ".js-random-hw li {\n",
    "  margin: 10px 0;\n",
    "  padding-left: 5px;\n",
    "  list-style: \"⚡ \";\n",
    "  font-weight: bold;\n",
    "}\n",
    "\n",
    "/* Glow Colors for Variety */\n",
    ".color { color: #00ffcc; text-shadow: 0 0 8px rgba(0,255,204,0.9); }\n",
    ".password { color: #ffeb3b; text-shadow: 0 0 8px rgba(255,235,59,0.9); }\n",
    ".coin { color: #ff9800; text-shadow: 0 0 8px rgba(255,152,0,1); }\n",
    ".compliment { color: #76ff03; text-shadow: 0 0 8px rgba(118,255,3,0.9); }\n",
    ".guess { color: #ff1744; text-shadow: 0 0 8px rgba(255,23,68,0.9); }\n",
    ".teams { color: #8c9eff; text-shadow: 0 0 8px rgba(140,158,255,0.9); }\n",
    "</style>\n",
    "\n",
    "<div class=\"js-random-hw\">\n",
    "  <h2>🎮 Optional Hacks (ONLY 1 is REQUIRED TO BE COMPLETED!)</h2>\n",
    "\n",
    "  <h3>Hack 1: <span class=\"color\">Random Color Generator</span></h3>\n",
    "  <p>Generate random RGB colors with one click.<br>\n",
    "  Format: <code>rgb(random, random, random)</code> (0–255).<br>\n",
    "  Change a box’s background & show the color code.</p>\n",
    "\n",
    "  <h3>Hack 2: <span class=\"password\">Random Password Maker</span></h3>\n",
    "  <p>Create passwords with random letters & numbers.<br>\n",
    "  User picks length (6–20).<br>\n",
    "  One button = new password each time.</p>\n",
    "\n",
    "  <h3>Hack 3: <span class=\"coin\">Coin Flip Streak Tracker</span></h3>\n",
    "  <p>Flip a coin (50/50 chance).<br>\n",
    "  Track the longest streak of same results.<br>\n",
    "  Example: <i>\"Heads, Heads, Heads = 3 streak!\"</i></p>\n",
    "\n",
    "  <h3>Hack 4: <span class=\"compliment\">Random Compliment Generator</span></h3>\n",
    "  <p>Pick random compliments from a list of 10–15.<br>\n",
    "  Button = new compliment.<br>\n",
    "  Simple mood booster 💚.</p>\n",
    "\n",
    "  <h3>Hack 5: <span class=\"guess\">Number Guessing Game</span></h3>\n",
    "  <p>Computer picks random number (1–50).<br>\n",
    "  User guesses → show “Too high!” or “Too low!”.<br>\n",
    "  Count guesses until win.</p>\n",
    "\n",
    "  <h3>Hack 6: <span class=\"teams\">Random Team Maker</span></h3>\n",
    "  <p>Enter 6–10 names in a box.<br>\n",
    "  Randomly split into 2 teams.<br>\n",
    "  Display Team A and Team B lists.</p>\n",
    "\n",
    "  <p><i>All hacks use <code>Math.random()</code>, <code>Math.floor()</code>, arrays, and simple HTML buttons/displays!</i></p>\n",
    "</div>\n"
   ]
  },
  {
   "cell_type": "markdown",
   "id": "9aedaf55",
   "metadata": {},
   "source": [
    "# Hack 5"
   ]
  },
  {
   "cell_type": "code",
   "execution_count": 3,
   "id": "2af4de24",
   "metadata": {
    "vscode": {
     "languageId": "javascript"
    }
   },
   "outputs": [
    {
     "data": {
      "application/javascript": "(() => {\n  const n = Math.floor(Math.random() * 50) + 1;\n  let tries = 0;\n  while (true) {\n    const s = prompt(\"Guess 1–50:\");\n    if (s === null) break;       // cancel quits\n    const g = +s; tries++;\n    if (g === n) { alert(`Correct in ${tries} guesses!`); break; }\n    alert(g > n ? \"Too high!\" : \"Too low!\");\n  }\n})();\n",
      "text/plain": [
       "<IPython.core.display.Javascript object>"
      ]
     },
     "metadata": {},
     "output_type": "display_data"
    }
   ],
   "source": [
    "%%js\n",
    "(() => {\n",
    "  const n = Math.floor(Math.random() * 50) + 1;\n",
    "  let tries = 0;\n",
    "  while (true) {\n",
    "    const s = prompt(\"Guess 1–50:\");\n",
    "    if (s === null) break;       // cancel quits\n",
    "    const g = +s; tries++;\n",
    "    if (g === n) { alert(`Correct in ${tries} guesses!`); break; }\n",
    "    alert(g > n ? \"Too high!\" : \"Too low!\");\n",
    "  }\n",
    "})();"
   ]
  },
  {
   "cell_type": "markdown",
   "id": "ec3cfda0",
   "metadata": {},
   "source": [
    "# Hack 6"
   ]
  },
  {
   "cell_type": "code",
   "execution_count": null,
   "id": "ce5abee2",
   "metadata": {},
   "outputs": [
    {
     "data": {
      "application/javascript": "// Hack 6: Random Team Maker (short + simple)\n(() => {\n  const s = prompt(\"Enter 6–10 names, comma-separated:\");\n  if (!s) return;\n  const names = s.split(\",\").map(x=>x.trim()).filter(Boolean);\n  if (names.length < 6 || names.length > 10) return alert(\"Please enter 6–10 names.\");\n  names.sort(()=>Math.random()-0.5);                 // quick shuffle\n  const mid = Math.ceil(names.length/2);\n  const A = names.slice(0, mid), B = names.slice(mid);\n  alert(`Team A:\\n- ${A.join(\"\\n- \")}\\n\\nTeam B:\\n- ${B.join(\"\\n- \")}`);\n})();\n",
      "text/plain": [
       "<IPython.core.display.Javascript object>"
      ]
     },
     "metadata": {},
     "output_type": "display_data"
    }
   ],
   "source": [
    "%%js\n",
    "// Hack 6: Random Team Maker (short + simple)\n",
    "(() => {\n",
    "  const s = prompt(\"Enter 6–10 names, comma-separated:\");\n",
    "  if (!s) return;\n",
    "  const names = s.split(\",\").map(x=>x.trim()).filter(Boolean);\n",
    "  if (names.length < 6 || names.length > 10) return alert(\"Please enter 6–10 names.\");\n",
    "  names.sort(()=>Math.random()-0.5);                 // quick shuffle\n",
    "  const mid = Math.ceil(names.length/2);\n",
    "  const A = names.slice(0, mid), B = names.slice(mid);\n",
    "  alert(`Team A:\\n- ${A.join(\"\\n- \")}\\n\\nTeam B:\\n- ${B.join(\"\\n- \")}`);\n",
    "})();"
   ]
  }
 ],
 "metadata": {
  "kernelspec": {
   "display_name": "Python 3",
   "language": "python",
   "name": "python3"
  },
  "language_info": {
   "codemirror_mode": {
    "name": "ipython",
    "version": 3
   },
   "file_extension": ".py",
   "mimetype": "text/x-python",
   "name": "python",
   "nbconvert_exporter": "python",
   "pygments_lexer": "ipython3",
   "version": "3.9.6"
  }
 },
 "nbformat": 4,
 "nbformat_minor": 5
}
