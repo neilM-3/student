{
 "cells": [
  {
   "cell_type": "markdown",
   "id": "752599c8",
   "metadata": {},
   "source": [
    "---\n",
    "layout: post\n",
    "title: Boolean Expressions and Logic Homework\n",
    "description: Quick practice with Boolean Expressions and Logic\n",
    "permalink: /csp/python/booleanexpressionsjavascript/collaborators/homework\n",
    "authors: Virginia Z, Vivian Z\n",
    "---"
   ]
  },
  {
   "cell_type": "markdown",
   "id": "24ec0689",
   "metadata": {},
   "source": [
    "## 📘 AP CSP Unit 3.5 Boolean Expressions Homework (JavaScript)\n",
    "### Part A: Write Boolean Expressions\n",
    "Write Boolean expressions for the following situations. Use && (and), || (or), and ! (not).\n",
    "1. You can watch a movie if you finished your homework and your age is at least 13.\n",
    "2. You can get dessert if you ordered dinner or your parent says yes.\n",
    "3. You can go outside if it is not raining and the temperature is greater than 60.\n",
    "4. A student is eligible for a discount if they are a student and their age is less than 18."
   ]
  },
  {
   "cell_type": "raw",
   "id": "d2255033",
   "metadata": {
    "vscode": {
     "languageId": "raw"
    }
   },
   "source": [
    "Type the appropriate answers to the questions here:\n",
    "1. finishedHomework && age >= 13\n",
    "2. orderedDinner || parentSaysYes\n",
    "3. !raining && temperature > 60\n",
    "4. isStudent && age < 18"
   ]
  },
  {
   "cell_type": "markdown",
   "id": "d83cb905",
   "metadata": {},
   "source": [
    "### Part B: Predict the Output\n",
    "What will each of these expressions evaluate to in JavaScript? (true or false)\n",
    "```javascript\n",
    "1. (5 > 3) && (10 < 20)\n",
    "2. (7 === 7) || (4 > 10)\n",
    "3. !(false) && (3 <= 3)\n",
    "4. (true || false) && !(5 === \"5\")\n",
    "5. (12 % 2 === 0) && (15 % 2 === 1)\n",
    "```\n"
   ]
  },
  {
   "cell_type": "raw",
   "id": "95b39e09",
   "metadata": {
    "vscode": {
     "languageId": "raw"
    }
   },
   "source": [
    "Type the appropriate answers to the questions here:\n",
    "1.True\n",
    "2.True\n",
    "3.True\n",
    "4.True"
   ]
  },
  {
   "cell_type": "markdown",
   "id": "c2ddca01",
   "metadata": {},
   "source": [
    "### Part C: Debugging\n",
    "Some students wrote Boolean expressions but made mistakes. Fix the errors.\n",
    "1. if (x > 10 and y < 5)\n",
    "2. if (not isOnline)\n",
    "3. if (age => 16 || hasLicense)"
   ]
  },
  {
   "cell_type": "raw",
   "id": "d7bc6e65",
   "metadata": {
    "vscode": {
     "languageId": "raw"
    }
   },
   "source": [
    "Type the appropriate answers to the questions here:\n",
    "1. if (x > 10 && y < 5)\n",
    "2. if (!isOnline)\n",
    "3. if (age >= 16 && hasLicense)"
   ]
  },
  {
   "cell_type": "markdown",
   "id": "12f2e865",
   "metadata": {},
   "source": [
    "# Extra Boolean Javascript practice"
   ]
  },
  {
   "cell_type": "markdown",
   "id": "0f465459",
   "metadata": {},
   "source": [
    "### Extra Problem 1: Write Boolean Expressions\n",
    "\n",
    "Write Boolean expressions for these situations:\n",
    "\n",
    "1. You can ride the roller coaster if you are at least 48 inches tall and you don't have a heart condition.\n",
    "2. A package ships free if the order total is over $50 or you have a membership.\n",
    "3. An alarm goes off if the temperature is below 32 or above 100."
   ]
  },
  {
   "cell_type": "code",
   "execution_count": null,
   "id": "73895fcd",
   "metadata": {
    "vscode": {
     "languageId": "javascript"
    }
   },
   "outputs": [],
   "source": [
    "%%js  \n",
    "\n",
    "height >= 48 && !hasHeartCondition\n",
    "orderTotal > 50 || hasMembership\n",
    "temperature < 32 || temperature > 100"
   ]
  },
  {
   "cell_type": "markdown",
   "id": "6c329a3b",
   "metadata": {},
   "source": [
    "### Extra Problem 2: Debug the Errors\n",
    "\n",
    "Fix these incorrect Boolean expressions:\n",
    "\n",
    "1. if (score => 90 or grade === \"A\")\n",
    "2. if (NOT isWeekend && hasHomework)\n",
    "3. if (age < 21 and age > 65)"
   ]
  },
  {
   "cell_type": "code",
   "execution_count": null,
   "id": "16a83cfe",
   "metadata": {
    "vscode": {
     "languageId": "javascript"
    }
   },
   "outputs": [],
   "source": [
    "score >= 90 || grade === \"A\"\n",
    "!isWeekend && hasHomework\n",
    "age < 21 || age > 65"
   ]
  }
 ],
 "metadata": {
  "kernelspec": {
   "display_name": "Python 3",
   "language": "python",
   "name": "python3"
  },
  "language_info": {
   "codemirror_mode": {
    "name": "ipython",
    "version": 3
   },
   "file_extension": ".py",
   "mimetype": "text/x-python",
   "name": "python",
   "nbconvert_exporter": "python",
   "pygments_lexer": "ipython3",
   "version": "3.9.6"
  }
 },
 "nbformat": 4,
 "nbformat_minor": 5
}
