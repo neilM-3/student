{
 "cells": [
  {
   "cell_type": "code",
   "execution_count": null,
   "id": "96c0ed4f",
   "metadata": {},
   "outputs": [],
   "source": [
    "---\n",
    "layout: post\n",
    "title: Calling Procedures Hacks\n",
    "description: This page will teach you about calling procedures through hacks.\n",
    "permalink: /csp/big-idea-three/calling-procedures/python/hw/p3/syntaxterrors\n",
    "Author: Kailyn Sanford\n",
    "---"
   ]
  },
  {
   "cell_type": "markdown",
   "id": "a8018ed0",
   "metadata": {
    "vscode": {
     "languageId": "html"
    }
   },
   "source": [
    "<div align=\"center\" style=\"margin-bottom: 2em;\">\n",
    "  <a href=\"{{ site.baseurl }}/csp/big-idea-three/callingprocedures/lesson/p3/syntaxterrors\"\n",
    "     style=\"\n",
    "      display: inline-block;\n",
    "      background: linear-gradient(90deg, #2563eb 0%, #1e40af 100%);\n",
    "      color: white;\n",
    "      padding: 0.85em 2.2em;\n",
    "      border-radius: 0.6em;\n",
    "      font-weight: bold;\n",
    "      text-decoration: none;\n",
    "      font-size: 1.15em;\n",
    "      box-shadow: 0 4px 16px rgba(30,64,175,0.18), 0 1.5px 4px rgba(0,0,0,0.10);\n",
    "      transition: \n",
    "        background 0.2s,\n",
    "        transform 0.15s,\n",
    "        box-shadow 0.2s;\n",
    "    \"\n",
    "    onmouseover=\"this.style.transform='scale(1.045)'; this.style.boxShadow='0 8px 24px rgba(30,64,175,0.22), 0 2px 8px rgba(0,0,0,0.13)';\"\n",
    "    onmouseout=\"this.style.transform='scale(1)'; this.style.boxShadow='0 4px 16px rgba(30,64,175,0.18), 0 1.5px 4px rgba(0,0,0,0.10)';\"\n",
    "  >\n",
    "    Calling Procedures Lesson\n",
    "  </a>\n",
    "</div>"
   ]
  },
  {
   "cell_type": "markdown",
   "id": "c09d0487",
   "metadata": {},
   "source": [
    "## Running to the DOM\n",
    "After editing the code, try running the code and see if it displays under the cell! If it shows under the cell correctly, you edited it correctly!"
   ]
  },
  {
   "cell_type": "markdown",
   "id": "1818d973",
   "metadata": {},
   "source": [
    "## 1. Basic Call\n",
    "How would you go about calling the greet function? Edit the code to add a call."
   ]
  },
  {
   "cell_type": "code",
   "execution_count": 1,
   "id": "60a45115",
   "metadata": {},
   "outputs": [
    {
     "name": "stdout",
     "output_type": "stream",
     "text": [
      "Hello, world!\n"
     ]
    }
   ],
   "source": [
    "def greet():\n",
    "    print(\"Hello, world!\")\n",
    "\n",
    "# call the \"greet\" procedure here\n",
    "greet()"
   ]
  },
  {
   "cell_type": "markdown",
   "id": "210042ba",
   "metadata": {},
   "source": [
    "## 2. Calling with Parameters\n",
    "Try changing the name within the parameter to your own name."
   ]
  },
  {
   "cell_type": "code",
   "execution_count": 2,
   "id": "fde5bc97",
   "metadata": {},
   "outputs": [
    {
     "name": "stdout",
     "output_type": "stream",
     "text": [
      "Hello, Aneesh\n",
      "Hello, Moiz\n"
     ]
    }
   ],
   "source": [
    "def greet(name):\n",
    "    print(\"Hello,\", name)\n",
    "\n",
    "# Put your name and a friends name into the call!\n",
    "greet(\"Aneesh\")\n",
    "greet(\"Moiz\")\n"
   ]
  },
  {
   "cell_type": "markdown",
   "id": "5d36b73c",
   "metadata": {},
   "source": [
    "## 3. Call within a Call\n",
    "try calling the \"jump\" procedure within the \"dance\" procedure!"
   ]
  },
  {
   "cell_type": "code",
   "execution_count": 3,
   "id": "be906fe2",
   "metadata": {},
   "outputs": [
    {
     "name": "stdout",
     "output_type": "stream",
     "text": [
      "Spin around!\n",
      "Jump up!\n",
      "Jump up!\n"
     ]
    }
   ],
   "source": [
    "def jump():\n",
    "    print(\"Jump up!\")\n",
    "  \n",
    "\n",
    "def dance(): # call the jump procedure in here as many times as you want!\n",
    "    print(\"Spin around!\")\n",
    "   \n",
    "\n",
    "\n",
    "dance()\n",
    "\n",
    "jump()\n",
    "jump()"
   ]
  },
  {
   "cell_type": "markdown",
   "id": "ed615177",
   "metadata": {},
   "source": [
    "## Let's try it with numbers!\n",
    "Change the #s below to any two numbers to check the sum! Once completed, try and change the function to a different math procedure (such as subtraction, multiplication, or division). If you want an extra challenge, how can we add more variables, or make the math function more complex within the procedure?"
   ]
  },
  {
   "cell_type": "code",
   "execution_count": 6,
   "id": "3de9c996",
   "metadata": {},
   "outputs": [
    {
     "name": "stdout",
     "output_type": "stream",
     "text": [
      "6\n",
      "12.0\n"
     ]
    }
   ],
   "source": [
    "def add_numbers(a, b):\n",
    "    sum_value = a + b\n",
    "    return sum_value\n",
    "\n",
    "answer = add_numbers(1, 5)\n",
    "print(answer)  \n",
    "\n",
    "def add_numbers(a, b):\n",
    "    sum_value = a / b\n",
    "    return sum_value\n",
    "\n",
    "answer = add_numbers(60, 5)\n",
    "print(answer)  "
   ]
  },
  {
   "cell_type": "markdown",
   "id": "8b7512d1",
   "metadata": {},
   "source": [
    "# Extra Problem 1 — Repeat Greeting (parameters + a tiny loop)\n",
    "\n",
    "### Goal: Call a function with your name and how many times to repeat the message."
   ]
  },
  {
   "cell_type": "code",
   "execution_count": 9,
   "id": "5d37b8c4",
   "metadata": {},
   "outputs": [
    {
     "name": "stdout",
     "output_type": "stream",
     "text": [
      "Let's go, Moiz!\n",
      "Let's go, Moiz!\n",
      "Let's go, Ethan!\n",
      "Let's go, Ethan!\n",
      "Let's go, Ethan!\n"
     ]
    }
   ],
   "source": [
    "# Extra Problem 1 — Repeat Greeting\n",
    "def cheer(name, times):\n",
    "    for _ in range(times):\n",
    "        print(\"Let's go,\", name + \"!\")\n",
    "\n",
    "cheer(\"Moiz\", 2)\n",
    "cheer(\"Ethan\", 3)\n"
   ]
  },
  {
   "cell_type": "markdown",
   "id": "029e3404",
   "metadata": {},
   "source": [
    "# Extra Problem 2 — Call a Function inside Another (composition)\n",
    "\n",
    "### Goal: Make announce_total use sum_two inside it, then call announce_total."
   ]
  },
  {
   "cell_type": "code",
   "execution_count": 10,
   "id": "84c91638",
   "metadata": {},
   "outputs": [
    {
     "name": "stdout",
     "output_type": "stream",
     "text": [
      "Total is: 7\n",
      "Total is: 35\n"
     ]
    }
   ],
   "source": [
    "# Extra Problem 2 — Call a Function inside Another\n",
    "def sum_two(a, b):\n",
    "    return a + b\n",
    "\n",
    "def announce_total(x, y):\n",
    "    total = sum_two(x, y)\n",
    "    print(\"Total is:\", total)\n",
    "\n",
    "announce_total(3, 4)\n",
    "announce_total(10, 25)\n"
   ]
  }
 ],
 "metadata": {
  "kernelspec": {
   "display_name": "Python 3",
   "language": "python",
   "name": "python3"
  },
  "language_info": {
   "codemirror_mode": {
    "name": "ipython",
    "version": 3
   },
   "file_extension": ".py",
   "mimetype": "text/x-python",
   "name": "python",
   "nbconvert_exporter": "python",
   "pygments_lexer": "ipython3",
   "version": "3.9.6"
  }
 },
 "nbformat": 4,
 "nbformat_minor": 5
}
