{
 "cells": [
  {
   "cell_type": "code",
   "execution_count": null,
   "id": "fe8aac41",
   "metadata": {},
   "outputs": [],
   "source": [
    "---\n",
    "layout: post\n",
    "title: Developing Procedures Homework\n",
    "description: Understanding Developing Procedures in Python\n",
    "permalink: /csp/big-idea-three/developingprocedures/python/hw/p3/syntaxterrors\n",
    "author: Kailyn S\n",
    "---"
   ]
  },
  {
   "cell_type": "markdown",
   "id": "a31f149f",
   "metadata": {},
   "source": [
    "<div align=\"center\" style=\"margin-bottom: 2em;\">\n",
    "  <a href=\"{{ site.baseurl }}/csp/big-idea-three/developingprocedures/lesson/p3/syntaxterrors\"\n",
    "     style=\"\n",
    "      display: inline-block;\n",
    "      background: linear-gradient(90deg, #2563eb 0%, #1e40af 100%);\n",
    "      color: white;\n",
    "      padding: 0.85em 2.2em;\n",
    "      border-radius: 0.6em;\n",
    "      font-weight: bold;\n",
    "      text-decoration: none;\n",
    "      font-size: 1.15em;\n",
    "      box-shadow: 0 4px 16px rgba(30,64,175,0.18), 0 1.5px 4px rgba(0,0,0,0.10);\n",
    "      transition: \n",
    "        background 0.2s,\n",
    "        transform 0.15s,\n",
    "        box-shadow 0.2s;\n",
    "    \"\n",
    "    onmouseover=\"this.style.transform='scale(1.045)'; this.style.boxShadow='0 8px 24px rgba(30,64,175,0.22), 0 2px 8px rgba(0,0,0,0.13)';\"\n",
    "    onmouseout=\"this.style.transform='scale(1)'; this.style.boxShadow='0 4px 16px rgba(30,64,175,0.18), 0 1.5px 4px rgba(0,0,0,0.10)';\"\n",
    "  >\n",
    "    Developing Procedures Lesson\n",
    "  </a>\n",
    "</div>"
   ]
  },
  {
   "cell_type": "markdown",
   "id": "e1f1e1b7",
   "metadata": {},
   "source": [
    "## Practice Developing Procedures\n",
    "In these examples, you'll be practicing developing procedures based off the context of the name and the call.\n",
    "\n",
    "Practice 1:"
   ]
  },
  {
   "cell_type": "code",
   "execution_count": 8,
   "id": "deab15c3",
   "metadata": {},
   "outputs": [
    {
     "name": "stdout",
     "output_type": "stream",
     "text": [
      "The sum is: 11\n"
     ]
    }
   ],
   "source": [
    "def add(a, b):  # define and return the result so show_sum can use it\n",
    "    return a + b\n",
    "\n",
    "def show_sum(a, b):\n",
    "    total = add(a, b)\n",
    "    print(\"The sum is:\", total)\n",
    "\n",
    "show_sum(4, 7)\n"
   ]
  },
  {
   "cell_type": "markdown",
   "id": "f6572a1e",
   "metadata": {},
   "source": [
    "Practice 2:"
   ]
  },
  {
   "cell_type": "code",
   "execution_count": 7,
   "id": "68fed7cf",
   "metadata": {},
   "outputs": [
    {
     "name": "stdout",
     "output_type": "stream",
     "text": [
      "Wake up!\n",
      "Eat breakfast!\n",
      "Get ready for the day!\n"
     ]
    }
   ],
   "source": [
    "# Single function version that runs the whole morning routine\n",
    "\n",
    "def morning_routine():\n",
    "    print(\"Wake up!\")\n",
    "    print(\"Eat breakfast!\")\n",
    "    print(\"Get ready for the day!\")\n",
    "\n",
    "# \"main guard\" so it runs when this cell/script is executed directly\n",
    "if __name__ == \"__main__\":\n",
    "    morning_routine()\n"
   ]
  },
  {
   "cell_type": "markdown",
   "id": "ff001db8",
   "metadata": {},
   "source": [
    "Practice 3:"
   ]
  },
  {
   "cell_type": "code",
   "execution_count": 5,
   "id": "5d1d521e",
   "metadata": {},
   "outputs": [
    {
     "name": "stdout",
     "output_type": "stream",
     "text": [
      "Neil\n"
     ]
    }
   ],
   "source": [
    "def greet(Neil): # how would you define the function to print \"Hi (name)! and so that it can change on a name to name basis?\"\n",
    "    print(Neil)\n",
    "\n",
    "# Test different inputs\n",
    "greet(\"Neil\")\n"
   ]
  },
  {
   "cell_type": "markdown",
   "id": "464fca1f",
   "metadata": {},
   "source": [
    "## Combining Calling and Developing Procedures\n",
    "Now that you understand both calling and developing, let's combine the two to fully use functions!\n",
    "Your final task is to be able to produce, on your own, three procedures and call them in an order that makes sense. For example:"
   ]
  },
  {
   "cell_type": "code",
   "execution_count": 2,
   "id": "c23217aa",
   "metadata": {},
   "outputs": [
    {
     "name": "stdout",
     "output_type": "stream",
     "text": [
      "Your final average grade is: 89.8\n"
     ]
    }
   ],
   "source": [
    "def get_grades():\n",
    "    grades = [87, 93, 88, 91, 90]\n",
    "    return grades\n",
    "\n",
    "\n",
    "def grade_calc(grades):\n",
    "    total = sum(grades)\n",
    "    average = total / len(grades)\n",
    "    return average\n",
    "\n",
    "def display_grade():\n",
    "    grades = get_grades()\n",
    "    average = grade_calc(grades)\n",
    "    print (\"Your final average grade is:\", average)\n",
    "\n",
    "display_grade()"
   ]
  },
  {
   "cell_type": "markdown",
   "id": "b8f68a8d",
   "metadata": {},
   "source": [
    "The requirements for this are:\n",
    "1. must have three seperate procedures.\n",
    "2. must call all three procedures at least once, and it can be within other procedures.\n",
    "3. must have at least one print and at least one math function.\n",
    "4. at least one procedure must have multiple steps.\n",
    "\n",
    "Other than that, have fun and create something as simple or complex as you'd like!"
   ]
  },
  {
   "cell_type": "code",
   "execution_count": 9,
   "id": "7391fc83",
   "metadata": {},
   "outputs": [
    {
     "name": "stdout",
     "output_type": "stream",
     "text": [
      "========================================\n",
      "Number Stats Demo\n",
      "========================================\n",
      "a = 7, b = 13\n",
      "sum = 20\n",
      "product = 91\n",
      "average = 10.0\n",
      "|a - b| = 6\n",
      "Direct add(42, 58) -> 100\n"
     ]
    }
   ],
   "source": [
    "# Requirements:\n",
    "# 1) Three separate procedures (functions)\n",
    "# 2) Call all three at least once (some can be called inside others)\n",
    "# 3) Include at least one print AND at least one math function\n",
    "# 4) At least one procedure has multiple steps\n",
    "\n",
    "def print_banner(msg: str) -> None:\n",
    "    \"\"\"Procedure 1: simple print helper.\"\"\"\n",
    "    print(\"=\" * 40)\n",
    "    print(msg)\n",
    "    print(\"=\" * 40)\n",
    "\n",
    "def add(a: float, b: float) -> float:\n",
    "    \"\"\"Procedure 2 (math): return the sum of two numbers.\"\"\"\n",
    "    return a + b\n",
    "\n",
    "def number_stats(a: float, b: float) -> None:\n",
    "    \"\"\"\n",
    "    Procedure 3 (multi-step): compute and display several stats.\n",
    "    Calls the math function `add` and prints multiple lines.\n",
    "    \"\"\"\n",
    "    s = add(a, b)            # uses our math function\n",
    "    p = a * b                # product\n",
    "    avg = s / 2              # average\n",
    "    diff = abs(a - b)        # distance between numbers\n",
    "    print(f\"a = {a}, b = {b}\")\n",
    "    print(f\"sum = {s}\")\n",
    "    print(f\"product = {p}\")\n",
    "    print(f\"average = {avg}\")\n",
    "    print(f\"|a - b| = {diff}\")\n",
    "\n",
    "def main():\n",
    "    # Call all three procedures (some nested)\n",
    "    print_banner(\"Number Stats Demo\")\n",
    "    number_stats(7, 13)          # calls add() inside\n",
    "    # Also call the math function directly at least once\n",
    "    direct_sum = add(42, 58)\n",
    "    print(f\"Direct add(42, 58) -> {direct_sum}\")\n",
    "\n",
    "if __name__ == \"__main__\":\n",
    "    main()\n"
   ]
  },
  {
   "cell_type": "markdown",
   "id": "a37aba53",
   "metadata": {},
   "source": [
    "## Problem 1"
   ]
  },
  {
   "cell_type": "code",
   "execution_count": 10,
   "id": "978edd2b",
   "metadata": {},
   "outputs": [
    {
     "name": "stdout",
     "output_type": "stream",
     "text": [
      "Today's games: Fortnite, Minecraft, Valorant\n",
      "You played Fortnite for 1 hours (60 minutes)\n",
      "You played Minecraft for 0.5 hours (30.0 minutes)\n",
      "You played Valorant for 1.5 hours (90.0 minutes)\n",
      "Long session! Don't forget to take breaks.\n"
     ]
    }
   ],
   "source": [
    "def startGaming():\n",
    "    print(\"Today's games: Fortnite, Minecraft, Valorant\")\n",
    "\n",
    "def calculatePlayTime(game, hours):\n",
    "    minutes = hours * 60\n",
    "    print(f\"You played {game} for {hours} hours ({minutes} minutes)\")\n",
    "    return minutes\n",
    "\n",
    "def gamingAdvice(totalMinutes):\n",
    "    if totalMinutes < 60:\n",
    "        print(\"Short session, nice break!\")\n",
    "    elif totalMinutes <= 120:\n",
    "        print(\"Good gaming session!\")\n",
    "    else:\n",
    "        print(\"Long session! Don't forget to take breaks.\")\n",
    "\n",
    "# Call all procedures\n",
    "startGaming()\n",
    "fortnite_time = calculatePlayTime(\"Fortnite\", 1)\n",
    "minecraft_time = calculatePlayTime(\"Minecraft\", 0.5)\n",
    "valorant_time = calculatePlayTime(\"Valorant\", 1.5)\n",
    "\n",
    "total = fortnite_time + minecraft_time + valorant_time\n",
    "gamingAdvice(total)"
   ]
  }
 ],
 "metadata": {
  "kernelspec": {
   "display_name": "Python 3",
   "language": "python",
   "name": "python3"
  },
  "language_info": {
   "codemirror_mode": {
    "name": "ipython",
    "version": 3
   },
   "file_extension": ".py",
   "mimetype": "text/x-python",
   "name": "python",
   "nbconvert_exporter": "python",
   "pygments_lexer": "ipython3",
   "version": "3.9.6"
  }
 },
 "nbformat": 4,
 "nbformat_minor": 5
}
