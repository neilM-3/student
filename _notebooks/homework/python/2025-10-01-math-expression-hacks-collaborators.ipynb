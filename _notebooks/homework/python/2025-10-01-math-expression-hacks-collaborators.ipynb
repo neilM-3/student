{
 "cells": [
  {
   "cell_type": "raw",
   "id": "a8f90cd3",
   "metadata": {
    "vscode": {
     "languageId": "raw"
    }
   },
   "source": [
    "---\n",
    "title: Math expressions\n",
    "comments: false\n",
    "layout: post\n",
    "toc: true\n",
    "permalink: /csp/big-idea-3/math-expressionspython/p3/Hacks\n",
    "---"
   ]
  },
  {
   "cell_type": "markdown",
   "id": "03b7e146",
   "metadata": {},
   "source": [
    "# 3.3 Hacks (Math Expressions using Pseudocode)"
   ]
  },
  {
   "cell_type": "markdown",
   "id": "19cdca56",
   "metadata": {},
   "source": [
    "# 💡 Hack 1: Identify Sequencing, Selection, and Iteration\n",
    "\n",
    "## Instructions\n",
    "Analyze the following algorithm. Identify **which steps demonstrate sequencing, selection, and iteration**.  \n",
    "\n",
    "- **Sequencing:** Steps that happen one after another in order.  \n",
    "- **Selection:** A decision is made that can lead to different outcomes.  \n",
    "- **Iteration:** A step or set of steps repeats based on a condition.  \n",
    "\n",
    "---\n",
    "\n",
    "### Algorithm\n",
    "1. Set item to the number to search for\n",
    "2. Get next number in the list\n",
    "3. If number = item, display “item found”\n",
    "4. If there are more numbers in the list, go back to Step 2\n",
    "5. Display “item not found”\n"
   ]
  },
  {
   "cell_type": "raw",
   "id": "f0636d18",
   "metadata": {},
   "source": [
    "type your answers here: \n",
    "Sequencing: Yes - The steps execute in order from 1 to 5.\n",
    "Selection: Yes - Steps 3 and 4 use IF statements to make decisions.\n",
    "Iteration: Yes - Step 4 loops back to Step 2 to check each number in the list."
   ]
  },
  {
   "cell_type": "markdown",
   "id": "5b2f89d0",
   "metadata": {},
   "source": [
    "# 💡 Hack 2: Predict the Output\n",
    "\n",
    "## Instructions\n",
    "Analyze the following code segment. **Predict what is displayed** when it runs.  \n",
    "\n",
    "- Track how each variable changes after every line.  \n",
    "- Apply arithmetic operations carefully and in order.  \n",
    "- Remember that assignment updates the variable immediately.  \n",
    "\n",
    "---\n",
    "\n",
    "### Code Segment\n",
    "```pseudo\n",
    "- num1 ← 2\n",
    "- num2 ← 4\n",
    "- num3 ← 5\n",
    "- num1 ← num2 + num3\n",
    "- num3 ← num1 + 5\n",
    "- num2 ← (num1 + num3) / 5\n",
    "- DISPLAY(num1)\n",
    "- DISPLAY(num2)\n",
    "- DISPLAY(num3)"
   ]
  },
  {
   "cell_type": "code",
   "execution_count": 4,
   "id": "e0ccebeb",
   "metadata": {},
   "outputs": [
    {
     "name": "stdout",
     "output_type": "stream",
     "text": [
      "9\n"
     ]
    },
    {
     "data": {
      "text/plain": [
       "<function print>"
      ]
     },
     "execution_count": 4,
     "metadata": {},
     "output_type": "execute_result"
    }
   ],
   "source": [
    "# Step-by-step tracking\n",
    "num1 = 2\n",
    "num2 = 4\n",
    "num3 = 5\n",
    "\n",
    "# after num1 ← num2 + num3\n",
    "num1 = num2 + num3  # num1 = 4 + 5 = 9\n",
    "\n",
    "# after num3 ← num1 + 5\n",
    "num3 = num1 + 5  # num3 = 9 + 5 = 14\n",
    "\n",
    "# after num2 ← (num1 + num3) / 5\n",
    "num2 = (num1 + num3) / 5  # num2 = (9 + 14) / 5 = 23 / 5 = 4.6\n",
    "\n",
    "# Predicted Output\n",
    "print(num1)  # → 9\n",
    "print\n"
   ]
  },
  {
   "cell_type": "markdown",
   "id": "d402a50d",
   "metadata": {},
   "source": [
    "# 💡 Hack 3: Practice\n",
    "\n",
    "**Instructions:** Predict the value of `result` after executing the following code. Show your thought process and write your answer below. You can type and test this in [VS Code.dev](https://vscode.dev) if you want.  \n",
    "\n",
    "```pseudo\n",
    "num1 ← 40\n",
    "num2 ← num1 / 2\n",
    "num3 ← 5 * num2 + 3\n",
    "result ← num2 MOD 3 * num1 + 4 - num3 / 2\n",
    "DISPLAY(result)"
   ]
  },
  {
   "cell_type": "code",
   "execution_count": 11,
   "id": "b77fd5ab",
   "metadata": {},
   "outputs": [
    {
     "name": "stdout",
     "output_type": "stream",
     "text": [
      "32.5\n"
     ]
    }
   ],
   "source": [
    "num1 = 40\n",
    "num2 = num1 / 2  \n",
    "num3 = 5 * num2 + 3  \n",
    "\n",
    "result = (num2 % 3) * num1 + 4 - num3 / 2  \n",
    "print(result) \n"
   ]
  }
 ],
 "metadata": {
  "kernelspec": {
   "display_name": "Python 3",
   "language": "python",
   "name": "python3"
  },
  "language_info": {
   "codemirror_mode": {
    "name": "ipython",
    "version": 3
   },
   "file_extension": ".py",
   "mimetype": "text/x-python",
   "name": "python",
   "nbconvert_exporter": "python",
   "pygments_lexer": "ipython3",
   "version": "3.9.6"
  }
 },
 "nbformat": 4,
 "nbformat_minor": 5
}
