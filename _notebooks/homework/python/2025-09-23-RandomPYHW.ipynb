{
 "cells": [
  {
   "cell_type": "markdown",
   "id": "d61cf37c",
   "metadata": {},
   "source": [
    "---\n",
    "layout: post\n",
    "title: Sprint 2 - Random Numbers! (Python)\n",
    "description:  Homework in Random Numbers in Python \n",
    "toc: true\n",
    "authors: Rudra Joshi, Samarth Vaka\n",
    "breadcrumbs: True\n",
    "permalink: /csp/big-idea-3/RandomPY/p3/homework\n",
    "---"
   ]
  },
  {
   "cell_type": "markdown",
   "id": "b8fb4e37",
   "metadata": {},
   "source": [
    "<style>\n",
    "/* 📚 Homework Section */\n",
    ".python-hw {\n",
    "  background: linear-gradient(135deg, #120012, #1a001a, #2b002b);\n",
    "  border: 2px solid #bb86fc;\n",
    "  border-radius: 14px;\n",
    "  padding: 30px;\n",
    "  margin: 30px auto;\n",
    "  max-width: 900px;\n",
    "  font-family: \"Segoe UI\", sans-serif;\n",
    "  color: #f3e8ff;\n",
    "  box-shadow: 0 0 30px rgba(187, 134, 252, 0.6);\n",
    "  line-height: 1.8em;\n",
    "}\n",
    "\n",
    "/* 🪄 Headers with glow */\n",
    ".python-hw h2 {\n",
    "  color: #bb86fc;\n",
    "  text-shadow: 0 0 12px rgba(187, 134, 252, 1);\n",
    "  font-family: \"Cinzel Decorative\", serif;\n",
    "  margin-bottom: 15px;\n",
    "}\n",
    "\n",
    ".python-hw h3 {\n",
    "  color: #e0b3ff;\n",
    "  text-shadow: 0 0 8px rgba(224, 179, 255, 0.9);\n",
    "  margin-top: 18px;\n",
    "}\n",
    "\n",
    "/* 🔮 Task list style */\n",
    ".python-hw li {\n",
    "  margin: 10px 0;\n",
    "  padding-left: 5px;\n",
    "}\n",
    "\n",
    ".python-hw strong {\n",
    "  color: #d29eff;\n",
    "  text-shadow: 0 0 6px rgba(210,158,255,0.8);\n",
    "}\n",
    "</style>\n",
    "\n",
    "<div class=\"python-hw\">\n",
    "  <h2>📚 Homeworks & Creative Tasks (Python, Pick 1)</h2>\n",
    "\n",
    "  <h3>✨ Task 1: Simple Loot Box</h3>\n",
    "  <p>\n",
    "    Create a basic program that opens 10 loot boxes.  \n",
    "    Use a slider to change the chance of getting rare items (10% to 90%).  \n",
    "    Count how many common vs rare items you get.  \n",
    "    Display the results in a simple list.\n",
    "  </p>\n",
    "\n",
    "  <h3>🎲 Task 2: Dice Rolling Counter</h3>\n",
    "  <p>\n",
    "    Roll a 6-sided die 20 times.  \n",
    "    Keep track of how many times each number (1–6) appears.  \n",
    "    Show the counts in a simple chart or list.  \n",
    "    Students can see if numbers appear evenly or not.\n",
    "  </p>\n",
    "\n",
    "  <h3>📖 Task 3: Random Story Generator</h3>\n",
    "  <p>\n",
    "    Pick random words from simple lists (character, place, action).  \n",
    "    Example: <i>\"The [knight/wizard/dragon] went to the [castle/forest/cave] and [fought/slept/ate]\"</i>.  \n",
    "    Generate 5 random stories with one button click.  \n",
    "    Show all stories in a list.\n",
    "  </p>\n",
    "\n",
    "  <h3>⚖️ Task 4: Basic Fairness Test</h3>\n",
    "  <p>\n",
    "    Roll a die 100 times.  \n",
    "    Count how many times each number appears.  \n",
    "    Check if each number appears around 16–17 times (100 ÷ 6 ≈ 16.67).  \n",
    "    Display results: <b>\"Fair!\"</b> if numbers are close to 16–17, <b>\"Maybe unfair?\"</b> if very different.\n",
    "  </p>\n",
    "\n",
    "  <p><i>All tasks should use simple <b>JavaScript</b> with <code>Math.random()</code> and basic HTML buttons and displays. No complex statistics or advanced libraries are needed.</i></p>\n",
    "</div>\n"
   ]
  },
  {
   "cell_type": "markdown",
   "id": "13d7c792",
   "metadata": {},
   "source": [
    "# Task 1 Simple Loot Box (10 opens, adjustable rare chance)"
   ]
  },
  {
   "cell_type": "code",
   "execution_count": 1,
   "id": "c4a831c0",
   "metadata": {},
   "outputs": [
    {
     "name": "stdout",
     "output_type": "stream",
     "text": [
      "Rare: 1\n",
      "Common: 9\n"
     ]
    }
   ],
   "source": [
    "import random\n",
    "p = float(input(\"Rare chance % (10–90): \") or 30)/100\n",
    "common = rare = 0\n",
    "for _ in range(10):\n",
    "    rare += random.random() < p\n",
    "common = 10 - rare\n",
    "print(f\"Rare: {rare}\\nCommon: {common}\")"
   ]
  },
  {
   "cell_type": "markdown",
   "id": "0648513e",
   "metadata": {},
   "source": [
    "# Task 2: Dice Rolling Counter (20 rolls)"
   ]
  },
  {
   "cell_type": "code",
   "execution_count": 2,
   "id": "4a89ec34",
   "metadata": {},
   "outputs": [
    {
     "name": "stdout",
     "output_type": "stream",
     "text": [
      "1 4\n",
      "2 4\n",
      "3 2\n",
      "4 6\n",
      "5 2\n",
      "6 2\n"
     ]
    }
   ],
   "source": [
    "import random\n",
    "cnt = [0]*6\n",
    "for _ in range(20):\n",
    "    cnt[random.randint(1,6)-1] += 1\n",
    "for i,c in enumerate(cnt,1):\n",
    "    print(i, c)"
   ]
  },
  {
   "cell_type": "markdown",
   "id": "a03a0cef",
   "metadata": {},
   "source": [
    "# Task 3: Random Story Generator (5 stories)"
   ]
  },
  {
   "cell_type": "code",
   "execution_count": 3,
   "id": "fcff5f7a",
   "metadata": {},
   "outputs": [
    {
     "name": "stdout",
     "output_type": "stream",
     "text": [
      "The dragon went to the castle and slept.\n",
      "The pirate went to the mountain and danced.\n",
      "The wizard went to the beach and fought.\n",
      "The wizard went to the beach and coded.\n",
      "The pirate went to the forest and coded.\n"
     ]
    }
   ],
   "source": [
    "import random\n",
    "who = [\"knight\",\"wizard\",\"dragon\",\"robot\",\"pirate\"]\n",
    "where = [\"castle\",\"forest\",\"cave\",\"beach\",\"mountain\"]\n",
    "act = [\"fought\",\"slept\",\"ate\",\"danced\",\"coded\"]\n",
    "pick = lambda a: random.choice(a)\n",
    "for _ in range(5):\n",
    "    print(f\"The {pick(who)} went to the {pick(where)} and {pick(act)}.\")"
   ]
  },
  {
   "cell_type": "markdown",
   "id": "31c7b258",
   "metadata": {},
   "source": [
    "# Task 4: Basic Fairness Test (100 rolls)"
   ]
  },
  {
   "cell_type": "code",
   "execution_count": null,
   "id": "108b8b1a",
   "metadata": {},
   "outputs": [
    {
     "name": "stdout",
     "output_type": "stream",
     "text": [
      "1 16\n",
      "2 14\n",
      "3 21\n",
      "4 17\n",
      "5 12\n",
      "6 20\n",
      "\n",
      "Maybe unfair?\n"
     ]
    }
   ],
   "source": [
    "import random\n",
    "cnt = [0]*6\n",
    "for _ in range(100):\n",
    "    cnt[random.randint(1,6)-1] += 1\n",
    "for i,c in enumerate(cnt,1):\n",
    "    print(i, c)\n",
    "fair = all(14 <= c <= 19 for c in cnt)   # around 16–17 each\n",
    "print(\"\\nFair!\" if fair else \"\\nMaybe unfair?\")"
   ]
  }
 ],
 "metadata": {
  "kernelspec": {
   "display_name": "Python 3",
   "language": "python",
   "name": "python3"
  },
  "language_info": {
   "codemirror_mode": {
    "name": "ipython",
    "version": 3
   },
   "file_extension": ".py",
   "mimetype": "text/x-python",
   "name": "python",
   "nbconvert_exporter": "python",
   "pygments_lexer": "ipython3",
   "version": "3.9.6"
  }
 },
 "nbformat": 4,
 "nbformat_minor": 5
}
