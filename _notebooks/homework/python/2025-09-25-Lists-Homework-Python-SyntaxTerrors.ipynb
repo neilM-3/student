{
 "cells": [
  {
   "cell_type": "code",
   "execution_count": null,
   "id": "7443824c",
   "metadata": {},
   "outputs": [],
   "source": [
    "---\n",
    "layout: post \n",
    "title: Coding Concept - Lists\n",
    "description: Understanding Lists in Python and JavaScript\n",
    "permalink: /csp/big-idea-three/lists/python/hw/p3/syntaxterrors\n",
    "author: Meryl C\n",
    "---"
   ]
  },
  {
   "cell_type": "markdown",
   "id": "dcad180e",
   "metadata": {},
   "source": [
    "<div align=\"center\" style=\"margin-bottom: 2em;\">\n",
    "  <a href=\"{{ site.baseurl }}/csp/big-idea-three/lists/lesson/p3/syntaxterrors\"\n",
    "     style=\"\n",
    "      display: inline-block;\n",
    "      background: linear-gradient(90deg, #2563eb 0%, #1e40af 100%);\n",
    "      color: white;\n",
    "      padding: 0.85em 2.2em;\n",
    "      border-radius: 0.6em;\n",
    "      font-weight: bold;\n",
    "      text-decoration: none;\n",
    "      font-size: 1.15em;\n",
    "      box-shadow: 0 4px 16px rgba(30,64,175,0.18), 0 1.5px 4px rgba(0,0,0,0.10);\n",
    "      transition: \n",
    "        background 0.2s,\n",
    "        transform 0.15s,\n",
    "        box-shadow 0.2s;\n",
    "    \"\n",
    "    onmouseover=\"this.style.transform='scale(1.045)'; this.style.boxShadow='0 8px 24px rgba(30,64,175,0.22), 0 2px 8px rgba(0,0,0,0.13)';\"\n",
    "    onmouseout=\"this.style.transform='scale(1)'; this.style.boxShadow='0 4px 16px rgba(30,64,175,0.18), 0 1.5px 4px rgba(0,0,0,0.10)';\"\n",
    "  >\n",
    "    Lists Lesson\n",
    "  </a>\n",
    "</div>"
   ]
  },
  {
   "cell_type": "code",
   "execution_count": 1,
   "id": "6b79c967",
   "metadata": {},
   "outputs": [
    {
     "name": "stdout",
     "output_type": "stream",
     "text": [
      "Starting snake: ['H', 'B', 'B', 'B', 'T']\n",
      "Snake after eating: ['H', 'B', 'B', 'B', 'T', 'T', 'T']\n",
      "Snake after losing tails: ['H', 'B', 'B', 'B', 'T']\n",
      "Snake after moving: ['H', 'H', 'B', 'B', 'B', 'T']\n",
      "New first head is: H\n",
      "Final snake: ['H', 'H', 'B', 'T', 'T']\n",
      "First head: H\n",
      "Last element: T\n"
     ]
    }
   ],
   "source": [
    "# -------------------------------\n",
    "# Popcorn Hack 1: Initialize Snake\n",
    "# -------------------------------\n",
    "# TODO: Create a list with 1 head, 3 body segments, and 1 tail\n",
    "# Example shape: [\"H\", \"B\", \"B\", \"B\", \"T\"]\n",
    "\n",
    "snake = [\"H\", \"B\", \"B\", \"B\", \"T\"]   # <-- fill in here\n",
    "print(\"Starting snake:\", snake)\n",
    "\n",
    "\n",
    "# -------------------------------\n",
    "# Popcorn Hack 2: Growing the Snake\n",
    "# -------------------------------\n",
    "# TODO: Append 2 tails (\"T\") to the end of the snake list\n",
    "# Use append() twice\n",
    "\n",
    "# snake.append(...)\n",
    "# snake.append(...)\n",
    "snake.append(\"T\")\n",
    "snake.append(\"T\")\n",
    "\n",
    "print(\"Snake after eating:\", snake)\n",
    "\n",
    "\n",
    "# -------------------------------\n",
    "# Popcorn Hack 3: Snake Loses a Tail\n",
    "# -------------------------------\n",
    "# TODO: Remove the last 2 elements from the snake list\n",
    "# Use del with negative indexing (ex: del snake[-1])\n",
    "\n",
    "# del snake[...]\n",
    "# del snake[...]\n",
    "del snake[-1]\n",
    "del snake[-1]\n",
    "\n",
    "print(\"Snake after losing tails:\", snake)\n",
    "\n",
    "\n",
    "# -------------------------------\n",
    "# Popcorn Hack 4: Combining It All\n",
    "# -------------------------------\n",
    "# TODO:\n",
    "# Step 1: Add 2 new heads at the start (use insert(0, ...))\n",
    "# Step 2: Remove 1 head from the start (use del snake[0])\n",
    "# Step 3: Print new snake and its first head\n",
    "\n",
    "# snake.insert(0, \"H\")\n",
    "# snake.insert(0, \"H\")\n",
    "# del snake[0]\n",
    "\n",
    "snake.insert(0, \"H\")\n",
    "snake.insert(0, \"H\")\n",
    "del snake[0]\n",
    "\n",
    "print(\"Snake after moving:\", snake)\n",
    "print(\"New first head is:\", snake[0])\n",
    "\n",
    "\n",
    "# -------------------------------\n",
    "# Check Your Understanding\n",
    "# -------------------------------\n",
    "snake = [\"H\", \"B\", \"B\", \"T\"]\n",
    "\n",
    "snake.insert(0, \"H\")\n",
    "snake.append(\"T\")\n",
    "del snake[2]\n",
    "\n",
    "print(\"Final snake:\", snake)\n",
    "print(\"First head:\", snake[0])\n",
    "print(\"Last element:\", snake[-1])\n",
    "\n"
   ]
  },
  {
   "cell_type": "markdown",
   "id": "b7c0fcef",
   "metadata": {},
   "source": [
    "# Problem 1: Rotate the Train\n",
    "\n",
    "### Write a Python program that takes the current train list and rotates it so the last car moves to the front (a right-rotation by 1).\n",
    "Print both the original and the rotated version."
   ]
  },
  {
   "cell_type": "code",
   "execution_count": 2,
   "id": "d787420d",
   "metadata": {},
   "outputs": [
    {
     "name": "stdout",
     "output_type": "stream",
     "text": [
      "Original Train: ['ENG', 'CAR', 'CAR', 'CAB']\n",
      "Rotated Train: ['CAB', 'ENG', 'CAR', 'CAR']\n"
     ]
    }
   ],
   "source": [
    "train = [\"ENG\", \"CAR\", \"CAR\", \"CAB\"]\n",
    "rotated_train = [train[-1]] + train[:-1]\n",
    "\n",
    "print(\"Original Train:\", train)\n",
    "print(\"Rotated Train:\", rotated_train)\n"
   ]
  },
  {
   "cell_type": "markdown",
   "id": "fb49c637",
   "metadata": {},
   "source": [
    "# Problem 2: Longest Name Finder\n",
    "\n",
    "### Write a Python loop that scans a list of names and prints the longest name and its length."
   ]
  },
  {
   "cell_type": "code",
   "execution_count": 3,
   "id": "6db93e49",
   "metadata": {},
   "outputs": [
    {
     "name": "stdout",
     "output_type": "stream",
     "text": [
      "Longest name: Charlotte\n",
      "Length: 9\n"
     ]
    }
   ],
   "source": [
    "names = [\"Kai\", \"Maya\", \"Charlotte\", \"Bo\", \"Emiliano\"]\n",
    "longest = names[0]\n",
    "\n",
    "for n in names:\n",
    "    if len(n) > len(longest):\n",
    "        longest = n\n",
    "\n",
    "print(\"Longest name:\", longest)\n",
    "print(\"Length:\", len(longest))\n"
   ]
  }
 ],
 "metadata": {
  "kernelspec": {
   "display_name": "Python 3",
   "language": "python",
   "name": "python3"
  },
  "language_info": {
   "codemirror_mode": {
    "name": "ipython",
    "version": 3
   },
   "file_extension": ".py",
   "mimetype": "text/x-python",
   "name": "python",
   "nbconvert_exporter": "python",
   "pygments_lexer": "ipython3",
   "version": "3.9.6"
  }
 },
 "nbformat": 4,
 "nbformat_minor": 5
}
